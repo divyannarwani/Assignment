{
 "cells": [
  {
   "cell_type": "markdown",
   "id": "0dd3f97d-2476-4a92-bcd4-7459a7072163",
   "metadata": {},
   "source": [
    "## Q1. Which keyword is used to create a function? Create a function to return a list of odd numbers in the range of 1 to 25."
   ]
  },
  {
   "cell_type": "markdown",
   "id": "ab4e2f33-78d2-494e-a1ec-59d7b30631a5",
   "metadata": {},
   "source": [
    "def keyword is used to create the function. "
   ]
  },
  {
   "cell_type": "code",
   "execution_count": 1,
   "id": "95aed31f-cede-4ac0-b5da-941a1b95bfcf",
   "metadata": {},
   "outputs": [
    {
     "name": "stdout",
     "output_type": "stream",
     "text": [
      "1\n",
      "3\n",
      "5\n",
      "7\n",
      "9\n",
      "11\n",
      "13\n",
      "15\n",
      "17\n",
      "19\n",
      "21\n",
      "23\n"
     ]
    }
   ],
   "source": [
    "def show_odd_numbers():\n",
    "    for i in range(25):\n",
    "        if i%2 != 0:\n",
    "            print(i)\n",
    "\n",
    "show_odd_numbers()"
   ]
  },
  {
   "cell_type": "markdown",
   "id": "bab7abc6-5ffe-4b97-9ecb-a9209623bf37",
   "metadata": {},
   "source": [
    "## Q2. Why *args and **kwargs is used in some functions? Create a function each for *args and **kwargs to demonstrate their use."
   ]
  },
  {
   "cell_type": "markdown",
   "id": "862f5f0c-5e66-4b42-bb7f-6ed54a0f15cc",
   "metadata": {},
   "source": [
    "The *args parameter allows a function to accept any number of non-keyword arguments.\n",
    "\n",
    "The **kwargs parameter allows a function to accept any number of keyword arguments."
   ]
  },
  {
   "cell_type": "code",
   "execution_count": 2,
   "id": "4d8847c9-75eb-4f05-b187-58bbe13cffed",
   "metadata": {},
   "outputs": [
    {
     "name": "stdout",
     "output_type": "stream",
     "text": [
      "Hello\n",
      "world\n",
      "123\n"
     ]
    }
   ],
   "source": [
    "def my_function(*args):\n",
    "    for arg in args:\n",
    "        print(arg)\n",
    "\n",
    "my_function(\"Hello\", \"world\", 123)"
   ]
  },
  {
   "cell_type": "code",
   "execution_count": 3,
   "id": "69579eb3-a824-41b1-b4ad-64345e29b46e",
   "metadata": {},
   "outputs": [
    {
     "name": "stdout",
     "output_type": "stream",
     "text": [
      "name = John\n",
      "age = 25\n",
      "city = New York\n"
     ]
    }
   ],
   "source": [
    "def my_function(**kwargs):\n",
    "    for key, value in kwargs.items():\n",
    "        print(key, \"=\", value)\n",
    "\n",
    "my_function(name=\"John\", age=25, city=\"New York\")"
   ]
  },
  {
   "cell_type": "markdown",
   "id": "81a9e066-c9fd-44fa-b6f1-402a17d1f4b6",
   "metadata": {},
   "source": [
    "## Q3. What is an iterator in python? Name the method used to initialise the iterator object and the method used for iteration. Use these methods to print the first five elements of the given list [2, 4, 6, 8, 10, 12, 14, 16, 18, 20]."
   ]
  },
  {
   "cell_type": "markdown",
   "id": "982776ee-19bd-48de-a9d4-96e299804dfd",
   "metadata": {},
   "source": [
    "In Python, an iterator is an object that implements the iterator protocol, which consists of two methods: __iter__() and __next__().\n",
    "\n",
    "The __iter__() method is used to initialize and return the iterator object itself."
   ]
  },
  {
   "cell_type": "code",
   "execution_count": 4,
   "id": "832daff5-d65c-4996-9455-afb893b4fbf6",
   "metadata": {},
   "outputs": [
    {
     "name": "stdout",
     "output_type": "stream",
     "text": [
      "2\n",
      "4\n",
      "6\n",
      "8\n",
      "10\n"
     ]
    }
   ],
   "source": [
    "l = [2, 4, 6, 8, 10, 12, 14, 16, 18, 20]\n",
    "\n",
    "for i in range(5):\n",
    "    print(l[i])"
   ]
  },
  {
   "cell_type": "markdown",
   "id": "f5756c91-a69b-4d28-ab04-e283b5353b5e",
   "metadata": {},
   "source": [
    "## Q4. What is a generator function in python? Why yield keyword is used? Give an example of a generator function."
   ]
  },
  {
   "cell_type": "markdown",
   "id": "16f7e36f-4c86-4f52-87c2-9c2e2c9a15d0",
   "metadata": {},
   "source": [
    "In Python, a generator function is a special type of function that uses the yield keyword instead of the return keyword to return values. It generates a sequence of values on-the-fly, allowing you to iterate over them one at a time, without storing the entire sequence in memory."
   ]
  },
  {
   "cell_type": "code",
   "execution_count": 6,
   "id": "8f2fb7bb-5e0d-433b-9c25-6eaa083cfd0e",
   "metadata": {},
   "outputs": [
    {
     "name": "stdout",
     "output_type": "stream",
     "text": [
      "0\n",
      "2\n",
      "4\n",
      "6\n",
      "8\n",
      "10\n"
     ]
    }
   ],
   "source": [
    "def even_numbers(limit):\n",
    "    current = 0\n",
    "    while current <= limit:\n",
    "        yield current\n",
    "        current += 2\n",
    "\n",
    "even_generator = even_numbers(10)\n",
    "\n",
    "for number in even_generator:\n",
    "    print(number)"
   ]
  },
  {
   "cell_type": "markdown",
   "id": "ebc8fdd8-d900-48a3-9775-a1d444f11fac",
   "metadata": {},
   "source": [
    "## Q5. Create a generator function for prime numbers less than 1000. Use the next() method to print the first 20 prime numbers."
   ]
  },
  {
   "cell_type": "code",
   "execution_count": 7,
   "id": "b728c0b0-69e7-4983-bd46-3a881b23a9fe",
   "metadata": {},
   "outputs": [
    {
     "name": "stdout",
     "output_type": "stream",
     "text": [
      "2\n",
      "3\n",
      "5\n",
      "7\n",
      "11\n",
      "13\n",
      "17\n",
      "19\n",
      "23\n",
      "29\n",
      "31\n",
      "37\n",
      "41\n",
      "43\n",
      "47\n",
      "53\n",
      "59\n",
      "61\n",
      "67\n",
      "71\n"
     ]
    }
   ],
   "source": [
    "def prime_generator():\n",
    "    yield 2  # 2 is the first prime number\n",
    "    primes = [2]  # List to store previously generated prime numbers\n",
    "    current_number = 3  # Start checking from 3\n",
    "\n",
    "    while current_number < 1000:\n",
    "        is_prime = True\n",
    "\n",
    "        for prime in primes:\n",
    "            if prime * prime > current_number:\n",
    "                break\n",
    "            if current_number % prime == 0:\n",
    "                is_prime = False\n",
    "                break\n",
    "\n",
    "        if is_prime:\n",
    "            yield current_number\n",
    "            primes.append(current_number)\n",
    "\n",
    "        current_number += 2  # Check only odd numbers\n",
    "\n",
    "# Create the generator object\n",
    "prime_gen = prime_generator()\n",
    "\n",
    "# Print the first 20 prime numbers using next()\n",
    "for _ in range(20):\n",
    "    prime = next(prime_gen)\n",
    "    print(prime)"
   ]
  },
  {
   "cell_type": "code",
   "execution_count": null,
   "id": "1d3059a2-48c5-4f7a-b86e-bf69f079e1fe",
   "metadata": {},
   "outputs": [],
   "source": []
  }
 ],
 "metadata": {
  "kernelspec": {
   "display_name": "Python 3 (ipykernel)",
   "language": "python",
   "name": "python3"
  },
  "language_info": {
   "codemirror_mode": {
    "name": "ipython",
    "version": 3
   },
   "file_extension": ".py",
   "mimetype": "text/x-python",
   "name": "python",
   "nbconvert_exporter": "python",
   "pygments_lexer": "ipython3",
   "version": "3.10.8"
  }
 },
 "nbformat": 4,
 "nbformat_minor": 5
}
