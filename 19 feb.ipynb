{
 "cells": [
  {
   "cell_type": "markdown",
   "id": "2e287a48-0e63-4bfa-ac89-8d211e797931",
   "metadata": {},
   "source": [
    "## Q1. What is Flask Framework? What are the advantages of Flask Framework?"
   ]
  },
  {
   "cell_type": "markdown",
   "id": "031ac2a8-745b-4763-b7ba-e60ecc2ed3d7",
   "metadata": {},
   "source": [
    "Flask is a lightweight and popular web framework for Python. It is designed to be simple, flexible, and easy to use, making it a popular choice for developing web applications and APIs.\n",
    "\n",
    "- ADVANTAGES:-\n",
    "1. Simplicity\n",
    "2. Flexibility\n",
    "3. Lightwieght\n",
    "4. Extensibility\n",
    "5. Testability\n",
    "6. Scalability"
   ]
  },
  {
   "cell_type": "markdown",
   "id": "404862c3-ee40-496f-9770-0cc4dc96bf70",
   "metadata": {},
   "source": [
    "## Q2. Create a simple Flask application to display ‘Hello World!!’. Attach the screenshot of the output in Jupyter Notebook."
   ]
  },
  {
   "cell_type": "code",
   "execution_count": 15,
   "id": "ebe01c45-ff8b-4a92-ba15-03e764591458",
   "metadata": {},
   "outputs": [],
   "source": [
    "from flask import Flask\n",
    "\n",
    "app = Flask(__name__)\n",
    "\n",
    "@app.route(\"/\")\n",
    "def HelloWorld():\n",
    "    return \"Hello World!!\"\n",
    "\n",
    "if __name__ == \"__main__\":\n",
    "    app.run(host=\"0.0.0.0\")"
   ]
  },
  {
   "cell_type": "markdown",
   "id": "55b5f4af-5c06-4c83-b193-2de2916c9ae0",
   "metadata": {},
   "source": [
    "![Screenshot](work/Assignments/ss_18feb.png)"
   ]
  },
  {
   "cell_type": "markdown",
   "id": "61cf138a-c293-4528-90cc-ca5af06274a3",
   "metadata": {},
   "source": [
    "## Q3. What is App routing in Flask? Why do we use app routes?"
   ]
  },
  {
   "cell_type": "markdown",
   "id": "f9b26f77-ee30-423a-b0bb-f6dd56086921",
   "metadata": {},
   "source": [
    "In Flask, app routing refers to the process of mapping URLs to specific functions or views within a Flask application. It allows you to define different routes or endpoints that correspond to different pages or functionality of your web application.\n",
    "\n",
    "App routing in Flask is essential because it allows you to structure and organize your web application, define different pages or functionality, and handle requests based on specific URLs."
   ]
  },
  {
   "cell_type": "markdown",
   "id": "12ab607b-cdc5-485a-8df4-c3727f880ddb",
   "metadata": {},
   "source": [
    "## Q4. Create a “/welcome” route to display the welcome message “Welcome to ABC Corporation” and a “/” route to show the following details:\n",
    "\n",
    "- Company Name: ABC Corporation\n",
    "- Location: India\n",
    "- Contact Detail: 999-999-9999\n",
    "- Attach the screenshot of the output in Jupyter Notebook."
   ]
  },
  {
   "cell_type": "code",
   "execution_count": 1,
   "id": "2ecbc099-041b-4faa-ae13-0c3e46c1e910",
   "metadata": {},
   "outputs": [
    {
     "ename": "ModuleNotFoundError",
     "evalue": "No module named 'flask'",
     "output_type": "error",
     "traceback": [
      "\u001b[0;31m---------------------------------------------------------------------------\u001b[0m",
      "\u001b[0;31mModuleNotFoundError\u001b[0m                       Traceback (most recent call last)",
      "Cell \u001b[0;32mIn[1], line 1\u001b[0m\n\u001b[0;32m----> 1\u001b[0m \u001b[38;5;28;01mfrom\u001b[39;00m \u001b[38;5;21;01mflask\u001b[39;00m \u001b[38;5;28;01mimport\u001b[39;00m Flask\n\u001b[1;32m      3\u001b[0m app \u001b[38;5;241m=\u001b[39m Flask(\u001b[38;5;18m__name__\u001b[39m)\n\u001b[1;32m      5\u001b[0m \u001b[38;5;129m@app\u001b[39m\u001b[38;5;241m.\u001b[39mroute(\u001b[38;5;124m\"\u001b[39m\u001b[38;5;124m/welcome\u001b[39m\u001b[38;5;124m\"\u001b[39m)\n\u001b[1;32m      6\u001b[0m \u001b[38;5;28;01mdef\u001b[39;00m \u001b[38;5;21mwelcome_msg\u001b[39m():\n",
      "\u001b[0;31mModuleNotFoundError\u001b[0m: No module named 'flask'"
     ]
    }
   ],
   "source": [
    "from flask import Flask\n",
    "\n",
    "app = Flask(__name__)\n",
    "\n",
    "@app.route(\"/welcome\")\n",
    "def welcome_msg():\n",
    "    return \"Welcome to ABC Corporation\"\n",
    "\n",
    "@app.route(\"/\")\n",
    "def show():\n",
    "    return \"Company Name: ABC Corporation      Location: India         Contact Detail: 999-999-9999\"\n",
    "\n",
    "if __name__ == \"__main__\":\n",
    "    app.run(host=\"0.0.0.0\")"
   ]
  },
  {
   "cell_type": "markdown",
   "id": "56f3c718-8f98-46d4-9402-be329dd655f3",
   "metadata": {},
   "source": [
    "![welcome](work/Assignments/ss_18feb_welcome.png)"
   ]
  },
  {
   "cell_type": "markdown",
   "id": "8323ea2d-b379-484f-851a-fdd1c29e261f",
   "metadata": {},
   "source": [
    "![details](work/Assignments/ss_18feb_details.png)"
   ]
  },
  {
   "cell_type": "markdown",
   "id": "52a6dbea-1cff-46ad-bef2-e5b93305865a",
   "metadata": {},
   "source": [
    "## Q5. What function is used in Flask for URL Building? Write a Python code to demonstrate the working of the url_for() function."
   ]
  },
  {
   "cell_type": "markdown",
   "id": "db0aa52d-fe4e-4655-8280-588a2493017e",
   "metadata": {},
   "source": [
    "In Flask, the `url_for()` function is used for URL building. It is a convenient way to dynamically generate URLs for routes defined in your Flask application. The `url_for()` function takes the endpoint name as an argument and returns the corresponding URL.\n",
    "\n",
    "Here's a Python code example demonstrating the usage of the `url_for()` function in Flask:\n",
    "\n",
    "```python\n",
    "from flask import Flask, url_for\n",
    "\n",
    "app = Flask(__name__)\n",
    "\n",
    "@app.route('/')\n",
    "def home():\n",
    "    return 'Home Page'\n",
    "\n",
    "@app.route('/about')\n",
    "def about():\n",
    "    return 'About Page'\n",
    "\n",
    "@app.route('/contact')\n",
    "def contact():\n",
    "    return 'Contact Page'\n",
    "\n",
    "@app.route('/user/<username>')\n",
    "def user_profile(username):\n",
    "    return f'User Profile: {username}'\n",
    "\n",
    "if __name__ == '__main__':\n",
    "    with app.test_request_context():\n",
    "        # Generate URLs using url_for()\n",
    "        home_url = url_for('home')\n",
    "        about_url = url_for('about')\n",
    "        contact_url = url_for('contact')\n",
    "        user_url = url_for('user_profile', username='john')\n",
    "\n",
    "        # Print the generated URLs\n",
    "        print('Home URL:', home_url)\n",
    "        print('About URL:', about_url)\n",
    "        print('Contact URL:', contact_url)\n",
    "        print('User URL:', user_url)\n",
    "```\n",
    "\n",
    "In this code, we have defined four routes: `'/'`, `'/about'`, `'/contact'`, and `'/user/<username>'`. Within the `if __name__ == '__main__':` block, we use `app.test_request_context()` to create a test request context for generating the URLs.\n",
    "\n",
    "The `url_for()` function is then used to generate the URLs for each endpoint. For the `'/'`, `'about'`, and `'contact'` routes, we pass the endpoint names as arguments directly. For the `'user_profile'` route, we also provide the value for the dynamic parameter `<username>` using the `username='john'` keyword argument.\n",
    "\n",
    "The generated URLs are printed to the console, demonstrating how the `url_for()` function builds URLs based on the defined routes and dynamic parameters.\n",
    "\n",
    "When you run the code, you will see the generated URLs printed as output, which will look something like:\n",
    "\n",
    "```\n",
    "Home URL: /\n",
    "About URL: /about\n",
    "Contact URL: /contact\n",
    "User URL: /user/john\n",
    "```"
   ]
  }
 ],
 "metadata": {
  "kernelspec": {
   "display_name": "Python 3 (ipykernel)",
   "language": "python",
   "name": "python3"
  },
  "language_info": {
   "codemirror_mode": {
    "name": "ipython",
    "version": 3
   },
   "file_extension": ".py",
   "mimetype": "text/x-python",
   "name": "python",
   "nbconvert_exporter": "python",
   "pygments_lexer": "ipython3",
   "version": "3.10.8"
  }
 },
 "nbformat": 4,
 "nbformat_minor": 5
}
