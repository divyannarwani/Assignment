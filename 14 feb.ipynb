{
 "cells": [
  {
   "cell_type": "markdown",
   "id": "1e2b98af-a165-478a-b608-0629bed1a556",
   "metadata": {},
   "source": [
    "# Q1) What is multithreading in python? Why is it used? Name the module used to handle threads in python."
   ]
  },
  {
   "cell_type": "markdown",
   "id": "85083655-e888-453b-b0b5-30a43a7c6e0a",
   "metadata": {},
   "source": [
    "Threading in programming refers to the concurrent execution of multiple threads within a single process. A thread can be thought of as a separate flow of execution within a program. By introducing multiple threads, a program can perform multiple tasks simultaneously, taking advantage of modern multi-core processors and improving overall efficiency.\n",
    "\n",
    "Threading module is used to handle threads in python."
   ]
  },
  {
   "cell_type": "markdown",
   "id": "f1f4bc7b-07b7-4d9d-aec8-10af17c3a8f5",
   "metadata": {},
   "source": [
    "# Q2) Why threading module used? Write the use of the following functions\n",
    "1. activeCount\n",
    "2. currentThread\n",
    "3. enumerate"
   ]
  },
  {
   "cell_type": "markdown",
   "id": "a2bc351d-a1c5-4ffe-ad6c-784fbff40077",
   "metadata": {},
   "source": [
    "The threading module in Python is used to create and manage threads in a multithreaded program. It provides a higher-level interface for working with threads compared to the lower-level thread module.\n",
    "\n",
    "1. activeCount(): This function returns the number of Thread objects currently alive. It counts the total number of threads that are still running or have not yet finished execution. The function is useful for monitoring the number of active threads in a program.\n",
    "\n",
    "2. currentThread(): This function returns the Thread object representing the current thread of execution. It allows you to obtain a reference to the currently running thread and perform operations or access attributes specific to that thread.\n",
    "\n",
    "3. enumerate(): This function returns a list of all Thread objects currently alive. It provides a convenient way to retrieve references to all the threads that are currently running or have not yet finished execution. By default, the list includes the main thread as well."
   ]
  },
  {
   "cell_type": "markdown",
   "id": "d7082c28-eeb3-4160-bb23-6c59e5e66cad",
   "metadata": {},
   "source": [
    "# Q3) Explain the following functions\n",
    "1. run\n",
    "2. start\n",
    "3. join\n",
    "4. isAlive"
   ]
  },
  {
   "cell_type": "markdown",
   "id": "30b927fa-d7ec-4c6c-8012-16e5330e287c",
   "metadata": {},
   "source": [
    "1. When the thread is started using the start() method, it internally calls the run() method to execute the thread's code.\n",
    "\n",
    "2. start(): The start() method is used to start the execution of a thread. It creates a new thread of execution and invokes the run() method of the thread.\n",
    "\n",
    "3. join(): The join() method is used to wait for a thread to complete its execution. When a Thread object's join() method is called, the calling thread will block and wait until the target thread finishes its execution. This is useful when you need to ensure that certain operations occur only after a thread has completed its task.\n",
    "\n",
    "4. isAlive(): The isAlive() method is used to check whether a thread is currently running or has finished execution. It returns a boolean value indicating the thread's status. The method returns True if the thread is still running, and False otherwise."
   ]
  },
  {
   "cell_type": "markdown",
   "id": "b83cc6e6-cb1f-4d8f-8ded-a25309138763",
   "metadata": {},
   "source": [
    "# Q4) Write a python program to create two threads. Thread one must print the list of squares and thread two must print the list of cubes."
   ]
  },
  {
   "cell_type": "code",
   "execution_count": 4,
   "id": "da9e18ee-18a6-4f9f-af47-e339bce94a2d",
   "metadata": {},
   "outputs": [],
   "source": [
    "import threading\n",
    "\n",
    "def power(a):\n",
    "    return a**2,a**3\n",
    "\n",
    "thread = [threading.Thread(target=power, args = (i,)) for i in range(10)]\n",
    "\n",
    "for t in thread:\n",
    "    t.start()"
   ]
  },
  {
   "cell_type": "markdown",
   "id": "8e1ff413-72ef-4fa0-a844-e6c3b9fde638",
   "metadata": {},
   "source": [
    "# Q5) State advantages and disadvantages of multithreading."
   ]
  },
  {
   "cell_type": "markdown",
   "id": "dec1972c-ad6a-473a-9563-1158c5e29714",
   "metadata": {},
   "source": [
    "## Advantages of Multithreading:\n",
    "\n",
    "Concurrency: Multithreading allows for concurrent execution of multiple tasks within a single process. It enables a program to make efficient use of modern multi-core processors, improving overall performance.\n",
    "\n",
    "Responsiveness: Multithreading helps maintain program responsiveness, especially in scenarios where long-running or blocking operations are involved. By executing tasks concurrently, other threads can continue execution even if one thread is blocked, ensuring the program remains interactive.\n",
    "\n",
    "Resource Utilization: Multithreading can lead to better resource utilization. Multiple threads can execute simultaneously on separate cores, allowing for efficient utilization of CPU resources. This can result in faster execution and improved overall efficiency.\n",
    "\n",
    "Modularity: Multithreading allows for the decomposition of complex tasks into smaller, more manageable units. Each thread can focus on a specific subtask, promoting code modularity and easier maintenance.\n",
    "\n",
    "## Disadvantages of Multithreading:\n",
    "\n",
    "Complexity and Debugging: Multithreaded programs can be complex to design, implement, and debug. Synchronization issues, such as race conditions and deadlocks, may arise when multiple threads access shared data. These issues can be challenging to identify and resolve.\n",
    "\n",
    "Synchronization Overhead: To ensure thread safety, synchronization mechanisms like locks, semaphores, and condition variables are used. Implementing proper synchronization adds overhead and can impact performance, especially if synchronization is overly granular or inefficiently designed.\n",
    "\n",
    "Difficult to Reproduce and Debug: Multithreading can introduce non-deterministic behavior. Due to the concurrent nature of threads, issues may be difficult to reproduce consistently, making debugging more challenging. Debugging tools and techniques specific to multithreaded environments are often required.\n",
    "\n",
    "Limited Scalability: The Global Interpreter Lock (GIL) in CPython limits the parallel execution of threads, making it challenging to achieve true parallelism and scalability in CPU-bound tasks. This limitation impacts the performance benefits of multithreading in certain scenarios.\n",
    "\n",
    "Increased Memory Overhead: Each thread in a multithreaded program has its own stack, which consumes memory resources. Creating a large number of threads can result in increased memory overhead and potential resource exhaustion."
   ]
  },
  {
   "cell_type": "markdown",
   "id": "0163b415-7aea-42ac-86b1-72fc42d98904",
   "metadata": {},
   "source": [
    "# Q6) Explain deadlocks and race conditions."
   ]
  },
  {
   "cell_type": "markdown",
   "id": "f5858671-4256-4d21-933e-004221de9d94",
   "metadata": {},
   "source": [
    "# Deadlocks:\n",
    "A deadlock is a situation where two or more threads are unable to proceed because each is waiting for a resource that is held by another thread in the same group. It results in a circular dependency of resources, causing all threads involved to be stuck indefinitely.\n",
    "\n",
    "# Race Conditions:\n",
    "A race condition occurs when two or more threads access shared data concurrently, and the final outcome of the program depends on the timing and order of their execution. It leads to unpredictable and undesired results, as the threads' interleaved execution can produce different outcomes each time the program is run."
   ]
  }
 ],
 "metadata": {
  "kernelspec": {
   "display_name": "Python 3 (ipykernel)",
   "language": "python",
   "name": "python3"
  },
  "language_info": {
   "codemirror_mode": {
    "name": "ipython",
    "version": 3
   },
   "file_extension": ".py",
   "mimetype": "text/x-python",
   "name": "python",
   "nbconvert_exporter": "python",
   "pygments_lexer": "ipython3",
   "version": "3.10.8"
  }
 },
 "nbformat": 4,
 "nbformat_minor": 5
}
