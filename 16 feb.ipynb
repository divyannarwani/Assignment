{
 "cells": [
  {
   "cell_type": "markdown",
   "id": "0b552ceb-23ec-427c-a873-0d3ba5595134",
   "metadata": {},
   "source": [
    "## Q1) What is a database? Differentiate between SQL and NoSQL databases."
   ]
  },
  {
   "cell_type": "markdown",
   "id": "0f6f4793-c94b-4a9a-937b-c0cc9ffab7e3",
   "metadata": {},
   "source": [
    "A database is a structured collection of data that is organized, managed, and accessed using a software system. It provides a way to store, retrieve, modify, and query large amounts of data efficiently. Databases are commonly used in various applications and industries to store and manage structured or unstructured data.\n",
    "\n",
    "SQL databases, based on a relational data model, use a fixed schema to organize structured data into tables with predefined relationships. They employ the SQL language for querying and manipulating data, offering powerful capabilities such as joins, aggregations, and sorting. SQL databases ensure ACID transactions, providing data integrity and consistency. They are vertically scalable, allowing increased workload by enhancing server resources. SQL databases excel in scenarios that require structured data, complex querying, strict consistency, and strong data integrity, making them suitable for applications like transactional systems, financial systems, and applications with well-defined data relationships.\n",
    "\n",
    "NoSQL databases offer flexibility by allowing unstructured or semi-structured data with dynamic schemas. They employ various data models, including key-value, document, columnar, or graph, to efficiently store and retrieve data. NoSQL databases may use different query languages or specialized APIs. They prioritize scalability and performance, enabling horizontal scaling through sharding and replication. NoSQL databases trade some features of SQL databases, like strong consistency, for scalability and availability. They are ideal for handling large volumes of diverse data, high read/write throughput, and distributed environments. NoSQL databases find applications in web applications, big data, real-time analytics, and scenarios with flexible schemas and evolving requirements."
   ]
  },
  {
   "cell_type": "markdown",
   "id": "c913821d-bcbb-488f-a958-96af47ce2856",
   "metadata": {},
   "source": [
    "## Q2) What is DDL? Explain why CREATE, DROP, ALTER, and TRUNCATE are used with an example."
   ]
  },
  {
   "cell_type": "markdown",
   "id": "2f6b4641-efc3-441b-a8e9-0b2603ec52d8",
   "metadata": {},
   "source": [
    "DDL stands for data definition language, it is used to define the database such as its name, how to create it, what are its column domain etc.\n",
    "\n",
    "- CREATE - use to create dtabase and table \n",
    "- DROP - use to delete database and tables \n",
    "- ALTER - use to change the table attributes and domain \n",
    "- TRUNCATE - use to remove all the rows from the table"
   ]
  },
  {
   "cell_type": "markdown",
   "id": "2543a7ee-a64d-472c-bc3e-85bc50acbdbe",
   "metadata": {},
   "source": [
    "## Q3) What is DML? Explain INSERT, UPDATE, and DELETE with an example."
   ]
  },
  {
   "cell_type": "markdown",
   "id": "b78e2d95-6eef-4863-b945-ed046c36e952",
   "metadata": {},
   "source": [
    "DML stands for data manipulation language, which is used to add, delete and update the data in a table which is in a databse.\n",
    "\n",
    "- INSERT - used to insert data into the table \n",
    "\n",
    "_insert into table_name columns (column1, column2, column3,...) values (value1, value2, value3,...);\n",
    "\n",
    "- UPDATE - used to update data in the table\n",
    "\n",
    "update table_name set column_name = \"new value\" where condition;\n",
    "\n",
    "- DELETE - used to delete the record from the table\n",
    "\n",
    "delete from table_name where condition;"
   ]
  },
  {
   "cell_type": "markdown",
   "id": "0226fa68-6475-4869-b20f-6b1837fd5a3e",
   "metadata": {},
   "source": [
    "## Q4) What is DQL? Explain SELECT with an example."
   ]
  },
  {
   "cell_type": "markdown",
   "id": "0c41e575-674f-4c5c-a20d-73a21698408c",
   "metadata": {},
   "source": [
    "DQL stands for data query language which is used to fetch/retrieve data from the table\n",
    "\n",
    "\n",
    "Select command is used to retrieve data from the table\n",
    "- select * from table_name;                (used to retrieve all data from table)"
   ]
  },
  {
   "cell_type": "markdown",
   "id": "ded8304e-3f48-4263-bbe8-31e82cd52e3e",
   "metadata": {},
   "source": [
    "## Q5) Explain Primary Key and Foreign Key."
   ]
  },
  {
   "cell_type": "markdown",
   "id": "536284ed-b97a-4a9b-96aa-1eff524f610c",
   "metadata": {},
   "source": [
    "- Primary Key: A primary key is a unique identifier for a record in a database table. It ensures each row has a distinct value and provides a way to uniquely identify and access specific records.\n",
    "\n",
    "- Foreign Key: A foreign key is a field in a database table that establishes a link or relationship with the primary key of another table. Foreign keys enable relational connections between tables, enabling data consistency and integrity."
   ]
  },
  {
   "cell_type": "markdown",
   "id": "64abb140-481c-4a2e-ad95-754524a6e681",
   "metadata": {},
   "source": [
    "## Q6) Write a python code to connect MySQL to python. Explain the cursor() and execute() method."
   ]
  },
  {
   "cell_type": "code",
   "execution_count": null,
   "id": "d7327c3d-af37-49a8-ae93-18b86a7064de",
   "metadata": {},
   "outputs": [],
   "source": [
    "import mysql.connector\n",
    "\n",
    "mydb = mysql.connector.connect(\n",
    "    host=\"localhost\",\n",
    "    user=\"your_username\",\n",
    "    password=\"your_password\")\n",
    "\n",
    "mycursor = connection.cursor()\n",
    "query = \"SELECT * FROM customers\"\n",
    "cursor.execute(query)\n",
    "rows = cursor.fetchall()\n",
    "for row in rows:\n",
    "    print(row)\n",
    "\n",
    "    cursor.close()\n",
    "connection.close()\n"
   ]
  },
  {
   "cell_type": "markdown",
   "id": "a5c99dd9-adb3-48a9-85c2-da09e391e0dc",
   "metadata": {},
   "source": [
    "- The cursor() method creates a cursor object, which allows you to execute SQL queries and retrieve the results.\n",
    "\n",
    "- The execute() method is used to execute an SQL query. You pass the query as a parameter to this method."
   ]
  },
  {
   "cell_type": "markdown",
   "id": "94aac761-ae3a-41b4-a9a4-aa6101906c7e",
   "metadata": {},
   "source": [
    "## Q7) Give the order of execution of SQL clauses in an SQL query."
   ]
  },
  {
   "cell_type": "markdown",
   "id": "c6e8569d-1c63-4e66-aab2-d360da81c12b",
   "metadata": {},
   "source": [
    "The order of execution of SQL clauses in an SQL query generally follows the sequence listed below:\n",
    "\n",
    "- FROM: Specifies the tables or views from which the data will be retrieved.\n",
    "- WHERE: Filters the rows based on specified conditions.\n",
    "- GROUP BY: Groups the rows based on specified columns.\n",
    "- HAVING: Filters the grouped rows based on specified conditions.\n",
    "- SELECT: Specifies the columns to be included in the result set.\n",
    "- DISTINCT: Removes duplicate rows from the result set (if specified).\n",
    "- ORDER BY: Sorts the rows in the result set based on specified columns."
   ]
  }
 ],
 "metadata": {
  "kernelspec": {
   "display_name": "Python 3 (ipykernel)",
   "language": "python",
   "name": "python3"
  },
  "language_info": {
   "codemirror_mode": {
    "name": "ipython",
    "version": 3
   },
   "file_extension": ".py",
   "mimetype": "text/x-python",
   "name": "python",
   "nbconvert_exporter": "python",
   "pygments_lexer": "ipython3",
   "version": "3.10.8"
  }
 },
 "nbformat": 4,
 "nbformat_minor": 5
}
