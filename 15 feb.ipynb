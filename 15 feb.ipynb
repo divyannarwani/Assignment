{
 "cells": [
  {
   "cell_type": "markdown",
   "id": "0c80dc9b-e4ef-4583-8ffc-c3548af5c676",
   "metadata": {},
   "source": [
    "## Q1) What is multiprocessing in python? Why is it useful?"
   ]
  },
  {
   "cell_type": "markdown",
   "id": "915f0acb-7c87-4015-86c2-cbc070acc8a5",
   "metadata": {},
   "source": [
    "Multiprocessing in Python refers to the capability of executing multiple processes concurrently in order to improve the overall performance and efficiency of a program. Python provides a built-in module called multiprocessing that facilitates the creation and management of processes.\n",
    "\n",
    "The multiprocessing module allows you to parallelize the execution of tasks by utilizing multiple CPU cores or processors. By dividing the workload among multiple processes, you can take advantage of the available hardware resources and achieve significant performance gains in computationally intensive or time-consuming tasks."
   ]
  },
  {
   "cell_type": "markdown",
   "id": "f9cf765a-4df5-4b45-b357-48ddf4239b38",
   "metadata": {},
   "source": [
    "## Q2) What are the differences between multiprocessing and multithreading?"
   ]
  },
  {
   "cell_type": "markdown",
   "id": "ebea108c-e10e-4b1d-97a8-8df78884c0b0",
   "metadata": {},
   "source": [
    "Multiprocessing: In multiprocessing, multiple processes are created, each with its own memory space and resources. These processes run independently and can execute tasks in parallel, utilizing multiple CPU cores.\n",
    "\n",
    "Multithreading: In multithreading, multiple threads are created within a single process. All threads share the same memory space and resources of the parent process. These threads can run concurrently and perform tasks simultaneously, but they generally run on a single CPU core."
   ]
  },
  {
   "cell_type": "markdown",
   "id": "a53af369-2f69-43ae-b79c-2b61adabe8b1",
   "metadata": {},
   "source": [
    "## Q3) Write a python code to create a process using the multiprocessing module."
   ]
  },
  {
   "cell_type": "code",
   "execution_count": 2,
   "id": "de9369b0-d30c-4a16-bce4-e03ac3c357b9",
   "metadata": {},
   "outputs": [],
   "source": [
    "import multiprocessing"
   ]
  },
  {
   "cell_type": "code",
   "execution_count": 3,
   "id": "1173bd21-2104-4107-af9b-c76d72a3d8ac",
   "metadata": {},
   "outputs": [],
   "source": [
    "def test():\n",
    "    print(\"this line executes only when multiprocessing module is used.\")"
   ]
  },
  {
   "cell_type": "code",
   "execution_count": 4,
   "id": "abb3701a-cc4d-4cd1-9fc8-9dbac421b38e",
   "metadata": {},
   "outputs": [
    {
     "name": "stdout",
     "output_type": "stream",
     "text": [
      "this is the line of the main program\n",
      "this line executes only when multiprocessing module is used.\n"
     ]
    }
   ],
   "source": [
    "if __name__ == \"__main__\":\n",
    "    \n",
    "    m1 = multiprocessing.Process(target=test)\n",
    "    print(\"this is the line of the main program\")\n",
    "    \n",
    "    m1.start() #this will start the multiprocessing module\n",
    "    m1.join() #this will terminate the m1 function"
   ]
  },
  {
   "cell_type": "markdown",
   "id": "8735987e-c640-4a92-86d8-9b6c044d89ea",
   "metadata": {},
   "source": [
    "## Q4) What is a multiprocessing pool in python? Why is it used?"
   ]
  },
  {
   "cell_type": "markdown",
   "id": "fd42a9b2-a907-49be-884d-3077b104639f",
   "metadata": {},
   "source": [
    "In Python's multiprocessing module, a multiprocessing pool refers to a high-level abstraction that manages a pool of worker processes. The pool allows you to distribute tasks among the available processes, enabling parallel execution and efficient utilization of system resources.\n",
    "\n",
    "use:- With a multiprocessing pool, you can easily distribute tasks across multiple processes without the need to manage individual processes manually. The pool takes care of assigning tasks to idle workers, allowing you to focus on defining the tasks and processing logic."
   ]
  },
  {
   "cell_type": "markdown",
   "id": "57705899-abde-46da-b84d-59114f960e1e",
   "metadata": {},
   "source": [
    "## Q5) How can we create a pool of worker processes in python using the multiprocessing module?"
   ]
  },
  {
   "cell_type": "code",
   "execution_count": 5,
   "id": "45285e9f-4e46-433a-aa60-c68dda1edc5c",
   "metadata": {},
   "outputs": [],
   "source": [
    "import multiprocessing"
   ]
  },
  {
   "cell_type": "code",
   "execution_count": 6,
   "id": "32f0437d-d058-409b-993c-97c73b313d25",
   "metadata": {},
   "outputs": [],
   "source": [
    "def cube(n):\n",
    "    return n**3"
   ]
  },
  {
   "cell_type": "code",
   "execution_count": 7,
   "id": "56bae056-06a9-4336-9403-a9136fe4331e",
   "metadata": {},
   "outputs": [
    {
     "name": "stdout",
     "output_type": "stream",
     "text": [
      "[1, 8, 27, 64]\n"
     ]
    }
   ],
   "source": [
    "if __name__ == \"__main__\":\n",
    "    \n",
    "    with multiprocessing.Pool(processes=4) as pool:\n",
    "        out = pool.map(cube, [1,2,3,4])\n",
    "        print(out)"
   ]
  },
  {
   "cell_type": "markdown",
   "id": "8e5afbcb-2ed6-445a-99ec-6a5fbc53f220",
   "metadata": {},
   "source": [
    "## Q6) Write a python program to create 4 processes, each process should print a different number using the multiprocessing module in python."
   ]
  },
  {
   "cell_type": "code",
   "execution_count": 8,
   "id": "cb1eade0-c09d-450d-9d1d-389339698f81",
   "metadata": {},
   "outputs": [],
   "source": [
    "import multiprocessing"
   ]
  },
  {
   "cell_type": "code",
   "execution_count": 9,
   "id": "ed2804e3-79fd-4aaf-ab1f-284ad75c755d",
   "metadata": {},
   "outputs": [],
   "source": [
    "def get_number(number):\n",
    "    print(number)"
   ]
  },
  {
   "cell_type": "code",
   "execution_count": null,
   "id": "a72e3ca0-e0a3-43d6-aa12-cd5e823abb34",
   "metadata": {},
   "outputs": [],
   "source": [
    "if __name__ == \"__main__\":\n",
    "    \n",
    "    for i in range(4):\n",
    "        m = multiprocessing.Process(target=get)"
   ]
  }
 ],
 "metadata": {
  "kernelspec": {
   "display_name": "Python 3 (ipykernel)",
   "language": "python",
   "name": "python3"
  },
  "language_info": {
   "codemirror_mode": {
    "name": "ipython",
    "version": 3
   },
   "file_extension": ".py",
   "mimetype": "text/x-python",
   "name": "python",
   "nbconvert_exporter": "python",
   "pygments_lexer": "ipython3",
   "version": "3.10.8"
  }
 },
 "nbformat": 4,
 "nbformat_minor": 5
}
