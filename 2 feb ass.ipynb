{
 "cells": [
  {
   "cell_type": "markdown",
   "id": "71f4e586-b6c3-435b-9e84-10b9223f83ef",
   "metadata": {
    "tags": []
   },
   "source": [
    "### Q1. What are the characteristics of the tuples? Is tuple immutable?"
   ]
  },
  {
   "cell_type": "markdown",
   "id": "d79fc91e-520d-45a0-978d-04fbc542a177",
   "metadata": {},
   "source": [
    "*Answer-* \n",
    "\n",
    "These tuples are an ordered collection of elements of different data types. Furthermore, we represent them by writing the elements inside the parenthesis separated by commas. We can also define tuples as lists that we cannot change. Therefore, we can call them immutable tuples.\n",
    "___"
   ]
  },
  {
   "cell_type": "markdown",
   "id": "bb76c1c4-723c-4296-9b98-1f88b0524bdd",
   "metadata": {},
   "source": [
    "### Q2. What are the two tuple methods in python? Give an example of each method. Give a reason why tuples have only two in-built methods as compared to Lists."
   ]
  },
  {
   "cell_type": "markdown",
   "id": "e21915f3-f70c-4ed0-85d3-5fbccd14f857",
   "metadata": {},
   "source": [
    "#### *Answer-*\n",
    "\n",
    "There are two tuple methods in python which are - count() and index()."
   ]
  },
  {
   "cell_type": "code",
   "execution_count": 5,
   "id": "d0e476f9-7f0a-4542-8cf5-0d6ececd2672",
   "metadata": {},
   "outputs": [
    {
     "name": "stdout",
     "output_type": "stream",
     "text": [
      "2\n",
      "2\n"
     ]
    }
   ],
   "source": [
    "a = (1,2,4,2,3) #a is tuple\n",
    "print(a.count(2))\n",
    "print(a.index(4))"
   ]
  },
  {
   "cell_type": "markdown",
   "id": "ef31dc36-38f2-4eaa-9136-f024e4434e09",
   "metadata": {},
   "source": [
    "There are only two built-in methods in tuple because tuples are immutable as compared to the lists whch are mutable so that if they are not mutable so they does not provide with the methods like pop(), insert(), remove(), reverse() etc.\n",
    "___\n"
   ]
  },
  {
   "cell_type": "markdown",
   "id": "82468670-bfef-4c07-b35c-4f15ddf15572",
   "metadata": {},
   "source": [
    "### Q3. Which collection datatypes in python do not allow duplicate items? Write a code using a set to remove duplicates from the given list. \n",
    "### List = [1, 1, 1, 2, 1, 3, 1, 4, 2, 1, 2, 2, 2, 3, 2, 4, 3, 1, 3, 2, 3, 3, 3, 4, 4, 1, 4, 2, 4, 3, 4, 4]"
   ]
  },
  {
   "cell_type": "markdown",
   "id": "69e85172-dca4-41c4-81af-d3367e01b697",
   "metadata": {},
   "source": [
    "#### *Answer-*\n",
    "\n",
    "Set Data type in python does not allow duplicate elements."
   ]
  },
  {
   "cell_type": "code",
   "execution_count": 13,
   "id": "3d844668-cc0d-4caf-9adb-c4c0caf10100",
   "metadata": {},
   "outputs": [
    {
     "name": "stdout",
     "output_type": "stream",
     "text": [
      "[1, 2, 3, 4]\n"
     ]
    }
   ],
   "source": [
    "List= [1, 1, 1, 2, 1, 3, 1, 4, 2, 1, 2, 2, 2, 3, 2, 4, 3, 1, 3, 2, 3, 3, 3, 4, 4, 1, 4, 2, 4, 3, 4, 4]\n",
    "List=list(set(List))\n",
    "print(List)"
   ]
  },
  {
   "cell_type": "markdown",
   "id": "73d927f2-7440-45fa-96fd-c5b860045b5e",
   "metadata": {},
   "source": [
    "___"
   ]
  },
  {
   "cell_type": "markdown",
   "id": "30c9a78c-45d4-4c13-87ce-07ad869c5168",
   "metadata": {},
   "source": [
    "### Q4. Explain the difference between the union() and update() methods for a set. Give an example of each method."
   ]
  },
  {
   "cell_type": "markdown",
   "id": "a46ac78a-8237-4c53-9bd6-97272575b3ed",
   "metadata": {},
   "source": [
    "*Answer -*\n",
    "\n",
    "Union method is used to return the union of a set and the set of elements from one or more iterable like string, list, set. This method takes arbitrary number of iterable objects as argument, which means one or more iterable can be passed. If iterable other than set is passed, it first converts the iterable object to set object and then perform the union operation. It returns a newly created set, which contains all the elements ( distinct ) present in all the iterables.\n",
    "\n",
    "Update method is used to return the union of a set and the set of elements from one or more iterable like string, list, set. It is very similar to union() method, with difference is that where union() method create and return a new set, containing all the elements ( distinct ) present in all the iterables, update() method updates the set on which this method is called with all the distinct elements present in all the iterables."
   ]
  },
  {
   "cell_type": "code",
   "execution_count": 39,
   "id": "627a8b89-f303-44d8-b59a-94ddcb9b8f96",
   "metadata": {},
   "outputs": [
    {
     "name": "stdout",
     "output_type": "stream",
     "text": [
      "{1, 2, 3, 5}\n",
      "{1, 2, 3, 5}\n"
     ]
    }
   ],
   "source": [
    "a= {1,2,3}\n",
    "b= {2,3,5}\n",
    "c=a.union(b)\n",
    "print(c)\n",
    "\n",
    "a= {1,2,3}\n",
    "b= {2,3,5}\n",
    "d=a.update(b)\n",
    "print(c)"
   ]
  },
  {
   "cell_type": "markdown",
   "id": "e3e1c15b-226f-4497-8145-5d44752a12b1",
   "metadata": {},
   "source": [
    "___"
   ]
  },
  {
   "cell_type": "markdown",
   "id": "2e5618b8-e32b-45f9-a76b-7711e5172781",
   "metadata": {},
   "source": [
    "### Q5. What is a dictionary? Give an example. Also, state whether a dictionary is ordered or unordered."
   ]
  },
  {
   "cell_type": "markdown",
   "id": "c9aea41e-dad3-4f40-bd98-c811cd8127cb",
   "metadata": {},
   "source": [
    "*Answer-*\n",
    "\n",
    "Dictionaries are used to store data values in key:value pairs. A dictionary is a collection which is ordered, changeable and do not allow duplicates.\n",
    "\n",
    "A Dictionary is a ordered collection.\n",
    "___"
   ]
  },
  {
   "cell_type": "markdown",
   "id": "257cb886-7426-4339-947e-58eb4cac7799",
   "metadata": {},
   "source": [
    "### Q6. Can we create a nested dictionary? If so, please give an example by creating a simple one-level nested dictionary."
   ]
  },
  {
   "cell_type": "markdown",
   "id": "57a06291-8a17-4666-b26d-2f16466426df",
   "metadata": {},
   "source": [
    "*Answer-*\n",
    "\n",
    "Yes, We can create a nested Dictionary."
   ]
  },
  {
   "cell_type": "code",
   "execution_count": 42,
   "id": "8f403396-15ff-4e98-ac59-893ec530b751",
   "metadata": {},
   "outputs": [
    {
     "name": "stdout",
     "output_type": "stream",
     "text": [
      "{1: {1, 2, 3}, 2: {4, 5, 6}}\n"
     ]
    }
   ],
   "source": [
    "#A simple one level nested dictionary.\n",
    "d1 = {1:{1,2,3},2:{4,5,6}}\n",
    "print(d1)"
   ]
  },
  {
   "cell_type": "markdown",
   "id": "3806de01-2a88-4558-a265-885cae70e7d6",
   "metadata": {},
   "source": [
    "___"
   ]
  },
  {
   "cell_type": "markdown",
   "id": "231592f6-3b3a-46cc-a1d8-644660389d24",
   "metadata": {},
   "source": [
    "### Q7. Using setdefault() method, create key named topics in the given dictionary and also add the value ofthe key as this list = ['Python', 'Machine Learning’, 'Deep Learning']\n",
    "### dict1 = {'language' : 'Python', 'course': 'Data Science Masters'}"
   ]
  },
  {
   "cell_type": "code",
   "execution_count": 45,
   "id": "3d80bf56-c96d-44d1-bc8a-75e97f7ca00a",
   "metadata": {},
   "outputs": [
    {
     "name": "stdout",
     "output_type": "stream",
     "text": [
      "{'language': 'Python', 'course': 'Data Science Masters', 'key': ['Python', 'Machine Learning', 'Deep Learning']}\n"
     ]
    }
   ],
   "source": [
    "# Solution \n",
    "\n",
    "dict1 = {'language' : 'Python', 'course': 'Data Science Masters'}\n",
    "List = ['Python', 'Machine Learning', 'Deep Learning']\n",
    "        \n",
    "dict1.setdefault('key', List)\n",
    "print(dict1)"
   ]
  },
  {
   "cell_type": "markdown",
   "id": "65dd2935-b577-4597-b501-43020dc95547",
   "metadata": {},
   "source": [
    "___ "
   ]
  },
  {
   "cell_type": "markdown",
   "id": "6ea191f6-be88-44ae-ace4-1ffcc51769a1",
   "metadata": {},
   "source": [
    "### Q8. What are the three view objects in dictionaries? Use the three in-built methods in python to display these three view objects for the given dictionary. \n",
    "### dict1 = {'Sport': 'Cricket' , 'Teams': ['India', 'Australia', 'England', 'South Africa', 'Sri Lanka', 'New Zealand']}"
   ]
  },
  {
   "cell_type": "markdown",
   "id": "59aa8a4c-a0c9-4b23-918a-b8c92bf88ad8",
   "metadata": {},
   "source": [
    "*Answer-*\n",
    "\n",
    "The main view objects of dictionary in python are keys, values and items."
   ]
  },
  {
   "cell_type": "code",
   "execution_count": 50,
   "id": "4ba0ba16-edc2-44c3-a7d7-5f80195aef1f",
   "metadata": {},
   "outputs": [
    {
     "name": "stdout",
     "output_type": "stream",
     "text": [
      "Sport\n",
      "Teams\n"
     ]
    }
   ],
   "source": [
    "dict1 = {'Sport': 'Cricket' , 'Teams': ['India', 'Australia', 'England', 'South Africa', 'Sri Lanka', 'New Zealand']}\n",
    "\n",
    "for i in dict1.keys():\n",
    "    print(i)"
   ]
  },
  {
   "cell_type": "code",
   "execution_count": 51,
   "id": "32e45cac-f30f-42c3-840d-fa6015b29320",
   "metadata": {},
   "outputs": [
    {
     "name": "stdout",
     "output_type": "stream",
     "text": [
      "Cricket\n",
      "['India', 'Australia', 'England', 'South Africa', 'Sri Lanka', 'New Zealand']\n"
     ]
    }
   ],
   "source": [
    "for i in dict1.values():\n",
    "    print(i)"
   ]
  },
  {
   "cell_type": "code",
   "execution_count": 52,
   "id": "15ebc5a0-d38c-4400-b56b-89a29f5acbee",
   "metadata": {},
   "outputs": [
    {
     "name": "stdout",
     "output_type": "stream",
     "text": [
      "Sport : Cricket\n",
      "Teams : ['India', 'Australia', 'England', 'South Africa', 'Sri Lanka', 'New Zealand']\n"
     ]
    }
   ],
   "source": [
    "for i,j in dict1.items():\n",
    "    print(i,':',j)"
   ]
  }
 ],
 "metadata": {
  "kernelspec": {
   "display_name": "Python 3 (ipykernel)",
   "language": "python",
   "name": "python3"
  },
  "language_info": {
   "codemirror_mode": {
    "name": "ipython",
    "version": 3
   },
   "file_extension": ".py",
   "mimetype": "text/x-python",
   "name": "python",
   "nbconvert_exporter": "python",
   "pygments_lexer": "ipython3",
   "version": "3.10.8"
  }
 },
 "nbformat": 4,
 "nbformat_minor": 5
}
